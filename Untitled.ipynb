{
 "cells": [
  {
   "cell_type": "markdown",
   "id": "82645701-fb75-45f3-8f96-dd7a5ff0ed51",
   "metadata": {},
   "source": [
    "# Dies ist eine Überschrift\n",
    "## ...dies zweite Stufe"
   ]
  },
  {
   "cell_type": "code",
   "execution_count": 1,
   "id": "4cc3335e-2852-4e58-80b0-b44e20de6f23",
   "metadata": {},
   "outputs": [
    {
     "ename": "SyntaxError",
     "evalue": "invalid syntax (Temp/ipykernel_12320/2807921104.py, line 1)",
     "output_type": "error",
     "traceback": [
      "\u001b[1;36m  File \u001b[1;32m\"C:\\Users\\tomsc\\AppData\\Local\\Temp/ipykernel_12320/2807921104.py\"\u001b[1;36m, line \u001b[1;32m1\u001b[0m\n\u001b[1;33m    // Code kommt hier\u001b[0m\n\u001b[1;37m    ^\u001b[0m\n\u001b[1;31mSyntaxError\u001b[0m\u001b[1;31m:\u001b[0m invalid syntax\n"
     ]
    }
   ],
   "source": [
    "// Code kommt hier\n",
    "int i = 17"
   ]
  },
  {
   "cell_type": "code",
   "execution_count": null,
   "id": "945bbafa-c18c-4ab6-8706-f5b22c21cc4b",
   "metadata": {},
   "outputs": [],
   "source": []
  }
 ],
 "metadata": {
  "kernelspec": {
   "display_name": "Python 3 (ipykernel)",
   "language": "python",
   "name": "python3"
  },
  "language_info": {
   "codemirror_mode": {
    "name": "ipython",
    "version": 3
   },
   "file_extension": ".py",
   "mimetype": "text/x-python",
   "name": "python",
   "nbconvert_exporter": "python",
   "pygments_lexer": "ipython3",
   "version": "3.9.6"
  }
 },
 "nbformat": 4,
 "nbformat_minor": 5
}
